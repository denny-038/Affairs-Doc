{
 "cells": [
  {
   "attachments": {},
   "cell_type": "markdown",
   "metadata": {},
   "source": [
    "# Introduction"
   ]
  },
  {
   "attachments": {},
   "cell_type": "markdown",
   "metadata": {},
   "source": [
    "The \"Affairs.csv\" is an infidelity data, known as Fair's Affairs. Cross-section data from a survey conducted in 1969.\n",
    "Your task is to investigate this data."
   ]
  },
  {
   "attachments": {},
   "cell_type": "markdown",
   "metadata": {},
   "source": [
    "## Features"
   ]
  },
  {
   "attachments": {},
   "cell_type": "markdown",
   "metadata": {},
   "source": [
    "| Variable       | Description                                                        |\n",
    "| -------------- | ------------------------------------------------------------------ |\n",
    "| affairs        | How often engaged in extramarital sexual intercourse during the past year? |\n",
    "| gender         | Gender                                                             |\n",
    "| age            | Age in years. Coding: 17.5 = under 20, 22 = 20–24, 27 = 25–29, 32 = 30–34, 37 = 35–39, 42 = 40–44, 47 = 45–49, 52 = 50–54, 57 = 55 or over. |\n",
    "| yearsmarried   | Number of years married. Coding: 0.125 = 3 months or less, 0.417 = 4–6 months, 0.75 = 6 months–1 year, 1.5 = 1–2 years, 4 = 3–5 years, 7 = 6–8 years, 10 = 9–11 years, 15 = 12 or more years. |\n",
    "| children       | Are there children in the marriage?                                 |\n",
    "| religiousness  | Religiousness level. Coding: 1 = anti, 2 = not at all, 3 = slightly, 4 = somewhat, 5 = very. |\n",
    "| education      | Level of education. Coding: 9 = grade school, 12 = high school graduate, 14 = some college, 16 = college graduate, 17 = some graduate work, 18 = master's degree, 20 = Ph.D., M.D., or other advanced degree. |\n",
    "| occupation     | Occupation according to Hollingshead classification (reverse numbering) |\n",
    "| rating         | Self-rating of marriage. Coding: 1 = very unhappy, 2 = somewhat unhappy, 3 = average, 4 = happier than average, 5 = very happy. |\n"
   ]
  },
  {
   "attachments": {},
   "cell_type": "markdown",
   "metadata": {},
   "source": [
    "A bit more clarification on occupation (Hollingshead classification)\n",
    "\n",
    "| Code | Meaning                                                              |\n",
    "| ---- | -------------------------------------------------------------------- |\n",
    "| 1    | Unemployed and Unemployable                                        |\n",
    "| 2    | Partly Unemployed and Partly Employed                               |\n",
    "| 3    | Unskilled Manual Workers                                            |\n",
    "| 4    | Semi-Skilled Workers                                                |\n",
    "| 5    | Skilled and Technical Workers                                       |\n",
    "| 6    | Managers and Supervisors                                            |\n",
    "| 7    | Prestigious Professionals                                           |\n"
   ]
  },
  {
   "attachments": {},
   "cell_type": "markdown",
   "metadata": {},
   "source": [
    "# Coding Part 1"
   ]
  },
  {
   "attachments": {},
   "cell_type": "markdown",
   "metadata": {},
   "source": [
    "This part is a guided coding part"
   ]
  },
  {
   "cell_type": "code",
   "execution_count": null,
   "metadata": {},
   "outputs": [],
   "source": []
  },
  {
   "attachments": {},
   "cell_type": "markdown",
   "metadata": {},
   "source": [
    "## Import Libraries"
   ]
  },
  {
   "cell_type": "code",
   "execution_count": 22,
   "metadata": {},
   "outputs": [],
   "source": [
    "import statsmodels as sm"
   ]
  },
  {
   "cell_type": "code",
   "execution_count": 23,
   "metadata": {},
   "outputs": [],
   "source": [
    "import pandas as pd\n",
    "import plotly.graph_objects as go \n",
    "# import more libraries here if needed\n"
   ]
  },
  {
   "attachments": {},
   "cell_type": "markdown",
   "metadata": {},
   "source": [
    "## Data preprocessing"
   ]
  },
  {
   "attachments": {},
   "cell_type": "markdown",
   "metadata": {},
   "source": [
    "### Load the data and display the first 5 rows of the dataset using head function"
   ]
  },
  {
   "cell_type": "code",
   "execution_count": 24,
   "metadata": {},
   "outputs": [
    {
     "name": "stdout",
     "output_type": "stream",
     "text": [
      "   Unnamed: 0  affairs  gender   age  yearsmarried children  religiousness  \\\n",
      "0           4        0    male  37.0         10.00       no              3   \n",
      "1           5        0  female  27.0          4.00       no              4   \n",
      "2          11        0  female  32.0         15.00      yes              1   \n",
      "3          16        0    male  57.0         15.00      yes              5   \n",
      "4          23        0    male  22.0          0.75       no              2   \n",
      "\n",
      "   education  occupation  rating  \n",
      "0         18           7       4  \n",
      "1         14           6       4  \n",
      "2         12           1       4  \n",
      "3         18           6       5  \n",
      "4         17           6       3  \n"
     ]
    }
   ],
   "source": [
    "# TODO\n",
    "df = pd.read_csv(\"Affairs.csv\")\n",
    "print(df.head())"
   ]
  },
  {
   "attachments": {},
   "cell_type": "markdown",
   "metadata": {},
   "source": [
    "### Delete the column Unnamed:0, these are the id's of the participants."
   ]
  },
  {
   "cell_type": "code",
   "execution_count": 25,
   "metadata": {},
   "outputs": [],
   "source": [
    "# TODO\n",
    "df = df.drop(\"Unnamed: 0\", axis = 1)"
   ]
  },
  {
   "attachments": {},
   "cell_type": "markdown",
   "metadata": {},
   "source": [
    "### Change the values of the columns:\n",
    "\n",
    "gender: code male as 1, female as 0.\n",
    "\n",
    "children: code yes as 1, no as 0.\n",
    "\n",
    "For column affairs, make a new column affairs_binary\n",
    "where 0 from affairs becomes 0 and all other values becomes 1.\n",
    "For coding part 1 we will be only using affairs_binary."
   ]
  },
  {
   "cell_type": "code",
   "execution_count": 26,
   "metadata": {},
   "outputs": [
    {
     "name": "stdout",
     "output_type": "stream",
     "text": [
      "     affairs  gender   age  yearsmarried  children  religiousness  education  \\\n",
      "0          0       1  37.0        10.000         0              3         18   \n",
      "1          0       0  27.0         4.000         0              4         14   \n",
      "2          0       0  32.0        15.000         1              1         12   \n",
      "3          0       1  57.0        15.000         1              5         18   \n",
      "4          0       1  22.0         0.750         0              2         17   \n",
      "..       ...     ...   ...           ...       ...            ...        ...   \n",
      "495       12       1  47.0        15.000         1              4         17   \n",
      "496       12       0  42.0        15.000         1              4         12   \n",
      "497        7       1  27.0         4.000         0              3         14   \n",
      "498        7       0  32.0         7.000         1              4         18   \n",
      "499        1       1  32.0         0.417         1              3         12   \n",
      "\n",
      "     occupation  rating  affairs_binary  \n",
      "0             7       4               0  \n",
      "1             6       4               0  \n",
      "2             1       4               0  \n",
      "3             6       5               0  \n",
      "4             6       3               0  \n",
      "..          ...     ...             ...  \n",
      "495           6       5               1  \n",
      "496           1       1               1  \n",
      "497           3       4               1  \n",
      "498           4       5               1  \n",
      "499           3       4               1  \n",
      "\n",
      "[500 rows x 10 columns]\n"
     ]
    }
   ],
   "source": [
    "# TODO\n",
    "df[\"gender\"] = df[\"gender\"].replace({\"male\": 1, \"female\":0})\n",
    "df[\"children\"] = df[\"children\"].replace({\"yes\": 1, \"no\": 0})\n",
    "df[\"affairs_binary\"] = df[\"affairs\"].apply(lambda x: 0 if x == 0 else 1)\n",
    "print(df.head(500))"
   ]
  },
  {
   "attachments": {},
   "cell_type": "markdown",
   "metadata": {},
   "source": [
    "## Descriptive analyisis"
   ]
  },
  {
   "attachments": {},
   "cell_type": "markdown",
   "metadata": {},
   "source": [
    "### Investigate what the ratio is between men cheating and woman cheating and ratio within class of not cheating\n",
    "\n",
    "Use plotly library to display pie-charts"
   ]
  },
  {
   "cell_type": "code",
   "execution_count": 34,
   "metadata": {},
   "outputs": [
    {
     "name": "stdout",
     "output_type": "stream",
     "text": [
      "   affairs  gender   age  yearsmarried  children  religiousness  education  \\\n",
      "0        0       1  37.0         10.00         0              3         18   \n",
      "1        0       0  27.0          4.00         0              4         14   \n",
      "2        0       0  32.0         15.00         1              1         12   \n",
      "3        0       1  57.0         15.00         1              5         18   \n",
      "4        0       1  22.0          0.75         0              2         17   \n",
      "\n",
      "   occupation  rating  affairs_binary  \n",
      "0           7       4               0  \n",
      "1           6       4               0  \n",
      "2           1       4               0  \n",
      "3           6       5               0  \n",
      "4           6       3               0  \n",
      "78\n",
      "72\n",
      "208\n",
      "243\n",
      "Ratio of men cheating: 0.129783693843594\n",
      "Ratio of women cheating: 0.11980033277870217\n",
      "Ratio of men not cheating: 0.34608985024958405\n",
      "Ratio of women not cheating: 0.4043261231281198\n"
     ]
    },
    {
     "ename": "ValueError",
     "evalue": "Mime type rendering requires nbformat>=4.2.0 but it is not installed",
     "output_type": "error",
     "traceback": [
      "\u001b[0;31m---------------------------------------------------------------------------\u001b[0m",
      "\u001b[0;31mValueError\u001b[0m                                Traceback (most recent call last)",
      "Cell \u001b[0;32mIn[34], line 30\u001b[0m\n\u001b[1;32m     28\u001b[0m values \u001b[39m=\u001b[39m [male_cheating_ratio, female_cheating_ratio, male_notcheating_ratio, female_notcheating_ratio]\n\u001b[1;32m     29\u001b[0m fig \u001b[39m=\u001b[39m go\u001b[39m.\u001b[39mFigure(data\u001b[39m=\u001b[39m[go\u001b[39m.\u001b[39mPie(labels\u001b[39m=\u001b[39mlabels, values\u001b[39m=\u001b[39mvalues)])\n\u001b[0;32m---> 30\u001b[0m fig\u001b[39m.\u001b[39;49mshow()\n",
      "File \u001b[0;32m/Library/Frameworks/Python.framework/Versions/3.9/lib/python3.9/site-packages/plotly/basedatatypes.py:3409\u001b[0m, in \u001b[0;36mBaseFigure.show\u001b[0;34m(self, *args, **kwargs)\u001b[0m\n\u001b[1;32m   3376\u001b[0m \u001b[39m\u001b[39m\u001b[39m\"\"\"\u001b[39;00m\n\u001b[1;32m   3377\u001b[0m \u001b[39mShow a figure using either the default renderer(s) or the renderer(s)\u001b[39;00m\n\u001b[1;32m   3378\u001b[0m \u001b[39mspecified by the renderer argument\u001b[39;00m\n\u001b[0;32m   (...)\u001b[0m\n\u001b[1;32m   3405\u001b[0m \u001b[39mNone\u001b[39;00m\n\u001b[1;32m   3406\u001b[0m \u001b[39m\"\"\"\u001b[39;00m\n\u001b[1;32m   3407\u001b[0m \u001b[39mimport\u001b[39;00m \u001b[39mplotly\u001b[39;00m\u001b[39m.\u001b[39;00m\u001b[39mio\u001b[39;00m \u001b[39mas\u001b[39;00m \u001b[39mpio\u001b[39;00m\n\u001b[0;32m-> 3409\u001b[0m \u001b[39mreturn\u001b[39;00m pio\u001b[39m.\u001b[39;49mshow(\u001b[39mself\u001b[39;49m, \u001b[39m*\u001b[39;49margs, \u001b[39m*\u001b[39;49m\u001b[39m*\u001b[39;49mkwargs)\n",
      "File \u001b[0;32m/Library/Frameworks/Python.framework/Versions/3.9/lib/python3.9/site-packages/plotly/io/_renderers.py:396\u001b[0m, in \u001b[0;36mshow\u001b[0;34m(fig, renderer, validate, **kwargs)\u001b[0m\n\u001b[1;32m    391\u001b[0m         \u001b[39mraise\u001b[39;00m \u001b[39mValueError\u001b[39;00m(\n\u001b[1;32m    392\u001b[0m             \u001b[39m\"\u001b[39m\u001b[39mMime type rendering requires ipython but it is not installed\u001b[39m\u001b[39m\"\u001b[39m\n\u001b[1;32m    393\u001b[0m         )\n\u001b[1;32m    395\u001b[0m     \u001b[39mif\u001b[39;00m \u001b[39mnot\u001b[39;00m nbformat \u001b[39mor\u001b[39;00m Version(nbformat\u001b[39m.\u001b[39m__version__) \u001b[39m<\u001b[39m Version(\u001b[39m\"\u001b[39m\u001b[39m4.2.0\u001b[39m\u001b[39m\"\u001b[39m):\n\u001b[0;32m--> 396\u001b[0m         \u001b[39mraise\u001b[39;00m \u001b[39mValueError\u001b[39;00m(\n\u001b[1;32m    397\u001b[0m             \u001b[39m\"\u001b[39m\u001b[39mMime type rendering requires nbformat>=4.2.0 but it is not installed\u001b[39m\u001b[39m\"\u001b[39m\n\u001b[1;32m    398\u001b[0m         )\n\u001b[1;32m    400\u001b[0m     ipython_display\u001b[39m.\u001b[39mdisplay(bundle, raw\u001b[39m=\u001b[39m\u001b[39mTrue\u001b[39;00m)\n\u001b[1;32m    402\u001b[0m \u001b[39m# external renderers\u001b[39;00m\n",
      "\u001b[0;31mValueError\u001b[0m: Mime type rendering requires nbformat>=4.2.0 but it is not installed"
     ]
    }
   ],
   "source": [
    "# TODO\n",
    "print(df.head())\n",
    "male_affairs = df[(df[\"gender\"] == 1) & (df[\"affairs_binary\"] == 1)].shape[0]\n",
    "print(male_affairs)\n",
    "female_affairs = df[(df[\"gender\"] == 0) & (df[\"affairs_binary\"] == 1)].shape[0]\n",
    "print(female_affairs)\n",
    "male_noaffairs = df[(df[\"gender\"] == 1) & (df[\"affairs_binary\"] == 0)].shape[0]\n",
    "print(male_noaffairs)\n",
    "female_noaffairs = df[(df[\"gender\"] == 0) & (df[\"affairs_binary\"] == 0)].shape[0]\n",
    "print(female_noaffairs)\n",
    "\n",
    "# man cheating 78\n",
    "# female cheating 72\n",
    "# man not cheating 208\n",
    "# female not cheating 243\n",
    "male_cheating_ratio = male_affairs / (male_affairs + male_noaffairs + female_affairs + female_noaffairs)\n",
    "male_notcheating_ratio = male_noaffairs / (male_affairs + male_noaffairs + female_affairs + female_noaffairs)\n",
    "female_cheating_ratio = female_affairs / (male_affairs + male_noaffairs + female_affairs + female_noaffairs)\n",
    "female_notcheating_ratio = female_noaffairs / (male_affairs + male_noaffairs + female_affairs + female_noaffairs)\n",
    "\n",
    "print(\"Ratio of men cheating:\", male_cheating_ratio)\n",
    "print(\"Ratio of women cheating:\", female_cheating_ratio)\n",
    "print(\"Ratio of men not cheating:\", male_notcheating_ratio)\n",
    "print(\"Ratio of women not cheating:\", female_notcheating_ratio)\n",
    "\n",
    "\n",
    "labels = ['Men Cheating', 'Women Cheating', 'Men Not Cheating', 'Women Not Cheating']\n",
    "values = [male_cheating_ratio, female_cheating_ratio, male_notcheating_ratio, female_notcheating_ratio]\n",
    "fig = go.Figure(data=[go.Pie(labels=labels, values=values)])\n",
    "fig.show()\n",
    "\n",
    "\n"
   ]
  },
  {
   "attachments": {},
   "cell_type": "markdown",
   "metadata": {},
   "source": [
    "### Create a function that plots the relationship between the percentage cheating for women and men per category (and not cheating)\n",
    "\n",
    "So for example:\n",
    "\n",
    "plotPercentageCheating(age), takes as argument the age column.\n",
    "It should plot for each category of age (<20, 20-24, ...) the  percentage of cheating male vs cheating female\n",
    "\n",
    "Think of yourself how you want to visualize it such that it's easy for a reader to interpretate the results.\n",
    "\n",
    "Note, make the visuals labels appearing, but it should be encoded back to the original values,\n",
    "\n",
    "So education should be not 18 (someone who looks at this doesn't know what 18 is), it should be displayed master's degree."
   ]
  },
  {
   "cell_type": "code",
   "execution_count": 8,
   "metadata": {},
   "outputs": [
    {
     "name": "stdout",
     "output_type": "stream",
     "text": [
      "     affairs  gender    age     yearsmarried  children religiousness  \\\n",
      "0          0       1  35-39       9-11 years         0      slightly   \n",
      "1          0       0  25-29        3-5 years         0      somewhat   \n",
      "2          0       0  30-34        12+ years         1          anti   \n",
      "3          0       1    55+        12+ years         1          very   \n",
      "4          0       1  20-24  6 months-1 year         0    not at all   \n",
      "..       ...     ...    ...              ...       ...           ...   \n",
      "596        1       1  20-24        1-2 years         1          anti   \n",
      "597        7       0  30-34       9-11 years         1    not at all   \n",
      "598        2       1  30-34       9-11 years         1    not at all   \n",
      "599        2       1  20-24        6-8 years         1      slightly   \n",
      "600        1       0  30-34        12+ years         1      slightly   \n",
      "\n",
      "                education                             occupation  \\\n",
      "0         master's degree              Prestigious Professionals   \n",
      "1            some college               Managers abd supervisors   \n",
      "2    high school graduate            Unemployed and Unemployable   \n",
      "3         master's degree               Managers abd supervisors   \n",
      "4      some graduate work               Managers abd supervisors   \n",
      "..                    ...                                    ...   \n",
      "596  high school graduate  Partly Unemployed and Partly Employed   \n",
      "597       master's degree          Skilled and Technical Workers   \n",
      "598    some graduate work               Managers abd supervisors   \n",
      "599       master's degree               Managers abd supervisors   \n",
      "600          some college            Unemployed and Unemployable   \n",
      "\n",
      "                   rating  affairs_binary  \n",
      "0    happier than average               0  \n",
      "1    happier than average               0  \n",
      "2    happier than average               0  \n",
      "3              very happy               0  \n",
      "4                 average               0  \n",
      "..                    ...             ...  \n",
      "596            very happy               1  \n",
      "597  happier than average               1  \n",
      "598            very happy               1  \n",
      "599      somewhat unhappy               1  \n",
      "600            very happy               1  \n",
      "\n",
      "[601 rows x 10 columns]\n",
      "['35-39' '25-29' '30-34' '55+' '20-24' '45-49' '40-44' '50-54' '<20']\n"
     ]
    }
   ],
   "source": [
    "#print(df.head())\n",
    "age_mapping = {17.5: '<20', 22: '20-24', 27: '25-29', 32: '30-34', 37: '35-39', 42: '40-44', 47: '45-49', 52: '50-54', 57: '55+'}\n",
    "yearsmarried_mapping = {0.125: '3 months or less', 0.417: '4-6 months', 0.75: '6 months-1 year', 1.5: '1-2 years', 4: '3-5 years', 7: '6-8 years', 10: '9-11 years', 15: '12+ years'}\n",
    "religiousness_mapping = {1: 'anti', 2: 'not at all', 3: 'slightly', 4: 'somewhat', 5: 'very'}\n",
    "education_mapping = {9: 'grade school', 12: 'high school graduate', 14: 'some college', 16: 'college graduate', 17: 'some graduate work', 18: \"master's degree\", 20: 'Ph.D., M.D., or other advanced degree'}\n",
    "occupation_mapping = {1: 'Unemployed and Unemployable', 2: 'Partly Unemployed and Partly Employed', 3: 'Unskilled Manuel Workers', 4: 'Semi-Skilled Workers', 5: 'Skilled and Technical Workers', 6: 'Managers abd supervisors', 7: 'Prestigious Professionals'}\n",
    "rating_mapping = {1: 'very unhappy', 2: 'somewhat unhappy', 3: 'average', 4: 'happier than average', 5: 'very happy'}\n",
    "\n",
    "df['age'] = df['age'].map(age_mapping)\n",
    "df['yearsmarried'] = df['yearsmarried'].map(yearsmarried_mapping)\n",
    "df['religiousness'] = df['religiousness'].map(religiousness_mapping)\n",
    "df['education'] = df['education'].map(education_mapping)\n",
    "df['occupation'] = df['occupation'].map(occupation_mapping)\n",
    "df['rating'] = df['rating'].map(rating_mapping)\n",
    "print(df)\n",
    "print(df['age'].unique())"
   ]
  },
  {
   "cell_type": "code",
   "execution_count": 11,
   "metadata": {},
   "outputs": [],
   "source": [
    "import plotly.express as px\n",
    "\n",
    "def plotPercentageCheating(columnname):\n",
    "    # TODO: plot percentage of cheating for each value of columnname\n",
    "     # Get unique categories in the specified column\n",
    "    categories = df[columnname].unique()\n",
    "\n",
    "    data = {\n",
    "        'Category': [],\n",
    "        'Male Cheating': [],\n",
    "        'Female Cheating': [],\n",
    "        'Male Not Cheating': [],\n",
    "        'Female Not Cheating': []\n",
    "    }\n",
    "\n",
    "    for category in categories:\n",
    "        # Filter the DataFrame for the current category\n",
    "        category_df = df[df[columnname] == category]\n",
    "\n",
    "        total_males_females = category_df.shape[0]\n",
    "        \n",
    "        if total_males_females != 0:\n",
    "            male_cheating_count = category_df[(category_df['gender'] == 'male') & (category_df['affairs_binary'] == 1)].shape[0]\n",
    "            female_cheating_count = category_df[(category_df['gender'] == 'female') & (category_df['affairs_binary'] == 1)].shape[0]\n",
    "            male_not_cheating_count = category_df[(category_df['gender'] == 'male') & (category_df['affairs_binary'] == 0)].shape[0]\n",
    "            female_not_cheating_count = category_df[(category_df['gender'] == 'female') & (category_df['affairs_binary'] == 0)].shape[0]\n",
    "\n",
    "            male_cheating_percentage = (male_cheating_count / total_males_females) * 100\n",
    "            female_cheating_percentage = (female_cheating_count / total_males_females) * 100\n",
    "            male_not_cheating_percentage = (male_not_cheating_count / total_males_females) * 100\n",
    "            female_not_cheating_percentage = (female_not_cheating_count / total_males_females) * 100\n",
    "        else:\n",
    "            male_cheating_percentage = 0\n",
    "            female_cheating_percentage = 0\n",
    "            male_not_cheating_percentage = 0\n",
    "            female_not_cheating_percentage = 0\n",
    "    \n",
    "        \n",
    "        data['Category'].append(category)\n",
    "        data['Male Cheating'].append(male_cheating_percentage)\n",
    "        data['Female Cheating'].append(female_cheating_percentage)\n",
    "        data['Male Not Cheating'].append(male_not_cheating_percentage)\n",
    "        data['Female Not Cheating'].append(female_not_cheating_percentage)\n",
    "        \n",
    "    result_df = pd.DataFrame(data)\n",
    "    \n",
    "    fig = px.bar(result_df, x='Category', y=['Male Cheating', 'Female Cheating', 'Male Not Cheating', 'Female Not Cheating'],\n",
    "            title='Percentage of Cheating and Not Cheating by Category',\n",
    "            labels={'value': 'Percentage'},\n",
    "            barmode='group')\n",
    "\n",
    "    fig.show()      \n",
    "pass"
   ]
  },
  {
   "cell_type": "code",
   "execution_count": 10,
   "metadata": {},
   "outputs": [],
   "source": [
    "for column in ['age', 'yearsmarried', 'children', 'religiousness', 'education', 'occupation', 'rating']:\n",
    "    plotPercentageCheating(column)"
   ]
  },
  {
   "attachments": {},
   "cell_type": "markdown",
   "metadata": {},
   "source": [
    "## Linear Regression"
   ]
  },
  {
   "attachments": {},
   "cell_type": "markdown",
   "metadata": {},
   "source": [
    "### Run a linear regression \n",
    "save the results of the coefficients (and intercept) of each feature in a dataframe named df_coefficients\n",
    "test also for significance of each feature.\n",
    "\n",
    "The df_coefficients should have two columns, the first one with the names, second with the values."
   ]
  },
  {
   "cell_type": "code",
   "execution_count": 30,
   "metadata": {},
   "outputs": [
    {
     "name": "stdout",
     "output_type": "stream",
     "text": [
      "                     Feature  Coefficient       P-Value\n",
      "const                  const     0.736107  1.514817e-06\n",
      "gender                gender     0.045201  2.591797e-01\n",
      "age                      age    -0.007420  1.405729e-02\n",
      "yearsmarried    yearsmarried     0.015981  3.743292e-03\n",
      "children            children     0.054487  2.431980e-01\n",
      "religiousness  religiousness    -0.053698  3.340658e-04\n",
      "education          education     0.003078  7.186988e-01\n",
      "occupation        occupation     0.005913  6.176428e-01\n",
      "rating                rating    -0.087455  6.592536e-08\n"
     ]
    }
   ],
   "source": [
    "import statsmodels.api as sm\n",
    "\n",
    "# TODO\n",
    "df_coefficients = None #Removable\n",
    "# TODO\n",
    "\n",
    "X = df[[\"gender\", \"age\", \"yearsmarried\", \"children\", \"religiousness\", \"education\", \"occupation\", \"rating\"]]  # Features\n",
    "y = df['affairs_binary'] \n",
    "\n",
    "X = sm.add_constant(X)\n",
    "model = sm.OLS(y, X).fit()\n",
    "\n",
    "coefficients = model.params\n",
    "p_values = model.pvalues\n",
    "\n",
    "df_coefficients = pd.DataFrame({'Feature': coefficients.index, 'Coefficient': coefficients.values, 'P-Value': p_values})\n",
    "print(df_coefficients)"
   ]
  },
  {
   "cell_type": "code",
   "execution_count": null,
   "metadata": {},
   "outputs": [],
   "source": [
    "df_coefficients"
   ]
  },
  {
   "attachments": {},
   "cell_type": "markdown",
   "metadata": {},
   "source": [
    "# Coding Part 2"
   ]
  },
  {
   "attachments": {},
   "cell_type": "markdown",
   "metadata": {},
   "source": [
    "Previously it was a more guided coding part. Now comes the more open ended question and exploration.\n",
    "\n",
    "We used affairs_binary only for part 1. Now we are focusing on the original data of affairs, where the value can also be greater than 1. \n",
    "\n",
    "Investigate what factors/drivers lead to a higher amount of affairs for for men and women indivudally.\n",
    "\n",
    "How you investigate and display the results is up to yourself."
   ]
  },
  {
   "cell_type": "code",
   "execution_count": null,
   "metadata": {},
   "outputs": [],
   "source": [
    "# TODO"
   ]
  },
  {
   "cell_type": "code",
   "execution_count": null,
   "metadata": {},
   "outputs": [],
   "source": []
  }
 ],
 "metadata": {
  "kernelspec": {
   "display_name": "Python 3",
   "language": "python",
   "name": "python3"
  },
  "language_info": {
   "codemirror_mode": {
    "name": "ipython",
    "version": 3
   },
   "file_extension": ".py",
   "mimetype": "text/x-python",
   "name": "python",
   "nbconvert_exporter": "python",
   "pygments_lexer": "ipython3",
   "version": "3.9.6"
  },
  "orig_nbformat": 4
 },
 "nbformat": 4,
 "nbformat_minor": 2
}
